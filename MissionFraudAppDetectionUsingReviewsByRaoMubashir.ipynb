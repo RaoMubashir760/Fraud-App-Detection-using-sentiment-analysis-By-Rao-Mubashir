{
  "cells": [
    {
      "cell_type": "markdown",
      "metadata": {
        "id": "view-in-github",
        "colab_type": "text"
      },
      "source": [
        "<a href=\"https://colab.research.google.com/github/RaoMubashir760/Fraud-App-Detection-using-sentiment-analysis-By-Rao-Mubashir/blob/main/MissionFraudAppDetectionUsingReviewsByRaoMubashir.ipynb\" target=\"_parent\"><img src=\"https://colab.research.google.com/assets/colab-badge.svg\" alt=\"Open In Colab\"/></a>"
      ]
    },
    {
      "cell_type": "code",
      "execution_count": 6,
      "metadata": {
        "colab": {
          "base_uri": "https://localhost:8080/"
        },
        "collapsed": true,
        "id": "ktuN-UFckbH1",
        "outputId": "cc14ab03-bcab-4295-c209-3d9679a85310"
      },
      "outputs": [
        {
          "output_type": "stream",
          "name": "stdout",
          "text": [
            "Requirement already satisfied: nltk in /usr/local/lib/python3.10/dist-packages (3.8.1)\n",
            "Requirement already satisfied: pandas in /usr/local/lib/python3.10/dist-packages (2.0.3)\n",
            "Requirement already satisfied: numpy in /usr/local/lib/python3.10/dist-packages (1.25.2)\n",
            "Requirement already satisfied: scikit-learn in /usr/local/lib/python3.10/dist-packages (1.2.2)\n",
            "Requirement already satisfied: click in /usr/local/lib/python3.10/dist-packages (from nltk) (8.1.7)\n",
            "Requirement already satisfied: joblib in /usr/local/lib/python3.10/dist-packages (from nltk) (1.4.2)\n",
            "Requirement already satisfied: regex>=2021.8.3 in /usr/local/lib/python3.10/dist-packages (from nltk) (2024.5.15)\n",
            "Requirement already satisfied: tqdm in /usr/local/lib/python3.10/dist-packages (from nltk) (4.66.4)\n",
            "Requirement already satisfied: python-dateutil>=2.8.2 in /usr/local/lib/python3.10/dist-packages (from pandas) (2.8.2)\n",
            "Requirement already satisfied: pytz>=2020.1 in /usr/local/lib/python3.10/dist-packages (from pandas) (2023.4)\n",
            "Requirement already satisfied: tzdata>=2022.1 in /usr/local/lib/python3.10/dist-packages (from pandas) (2024.1)\n",
            "Requirement already satisfied: scipy>=1.3.2 in /usr/local/lib/python3.10/dist-packages (from scikit-learn) (1.11.4)\n",
            "Requirement already satisfied: threadpoolctl>=2.0.0 in /usr/local/lib/python3.10/dist-packages (from scikit-learn) (3.5.0)\n",
            "Requirement already satisfied: six>=1.5 in /usr/local/lib/python3.10/dist-packages (from python-dateutil>=2.8.2->pandas) (1.16.0)\n"
          ]
        },
        {
          "output_type": "stream",
          "name": "stderr",
          "text": [
            "[nltk_data] Downloading package punkt to /root/nltk_data...\n",
            "[nltk_data]   Package punkt is already up-to-date!\n",
            "[nltk_data] Downloading package stopwords to /root/nltk_data...\n",
            "[nltk_data]   Package stopwords is already up-to-date!\n",
            "[nltk_data] Downloading package wordnet to /root/nltk_data...\n",
            "[nltk_data]   Package wordnet is already up-to-date!\n"
          ]
        },
        {
          "output_type": "execute_result",
          "data": {
            "text/plain": [
              "True"
            ]
          },
          "metadata": {},
          "execution_count": 6
        }
      ],
      "source": [
        "from nltk.tokenize import word_tokenize\n",
        "#Install necessary libraries\n",
        "!pip install nltk pandas numpy scikit-learn\n",
        "\n",
        "#Importing  libraries\n",
        "import nltk\n",
        "import pandas as pd\n",
        "import numpy as np\n",
        "from sklearn.model_selection import train_test_split\n",
        "from nltk.corpus import stopwords\n",
        "\n",
        "#Downloading  NLTK datasets for preprocessing of data(reviews)\n",
        "nltk.download('punkt')\n",
        "nltk.download('stopwords')\n",
        "nltk.download('wordnet')"
      ]
    },
    {
      "cell_type": "code",
      "execution_count": 8,
      "metadata": {
        "colab": {
          "base_uri": "https://localhost:8080/"
        },
        "id": "uPYc9SaskNu7",
        "outputId": "e3756308-bff6-43ce-cc7c-5367189b8586"
      },
      "outputs": [
        {
          "output_type": "stream",
          "name": "stdout",
          "text": [
            "Label\n",
            "positive    2791\n",
            "negative    2226\n",
            "Name: count, dtype: int64\n",
            "Best parameters: {'alpha': 0.7, 'fit_prior': False}\n",
            "Accuracy: 0.8623188405797102\n",
            "Review: This app is amazing! I've never had any issues and it works perfectly.\n",
            "Predicted sentiment for the review: positive\n",
            "App is Not Fraud\n",
            "Review: Scam! They charged me without my consent and the app doesn't even work.\n",
            "Predicted sentiment for the review: negative\n",
            "App is Fraud\n",
            "Review: Great app for tracking my workouts. Highly recommend it to anyone!\n",
            "Predicted sentiment for the review: positive\n",
            "App is Not Fraud\n",
            "Review: Totally fake! This app is just a clone of another one and it crashes all the time.\n",
            "Predicted sentiment for the review: negative\n",
            "App is Fraud\n",
            "Review: I've been using this app for months and it's been very reliable and useful.\n",
            "Predicted sentiment for the review: positive\n",
            "App is Not Fraud\n",
            "Review: Warning! This app stole my personal information. Do not download.\n",
            "Predicted sentiment for the review: negative\n",
            "App is Fraud\n",
            "Review: Fantastic user interface and very helpful customer support.\n",
            "Predicted sentiment for the review: positive\n",
            "App is Not Fraud\n",
            "Review: Terrible. It's filled with ads and doesn't do what it promises.\n",
            "Predicted sentiment for the review: negative\n",
            "App is Fraud\n",
            "Review: Love the new features in the latest update. Well done!\n",
            "Predicted sentiment for the review: positive\n",
            "App is Not Fraud\n",
            "Review: Fake reviews everywhere. This app is a complete fraud.\n",
            "Predicted sentiment for the review: negative\n",
            "App is Fraud\n",
            "Enter a review to detect its sentiment: i like it\n",
            "Predicted sentiment for the review: positive\n",
            "App is Not Fraud\n"
          ]
        }
      ],
      "source": [
        "#stratifiedSamling\n",
        "from sklearn.feature_extraction.text import TfidfVectorizer\n",
        "from sklearn.model_selection import train_test_split, GridSearchCV, StratifiedKFold\n",
        "from sklearn.naive_bayes import MultinomialNB\n",
        "from sklearn.metrics import confusion_matrix, accuracy_score, precision_recall_fscore_support, classification_report\n",
        "from nltk.tokenize import word_tokenize\n",
        "from nltk.stem import WordNetLemmatizer\n",
        "import string\n",
        "\n",
        "# Load dataset\n",
        "df = pd.read_csv('polarityFinalDraft4221RaoLastAndFinalDraft05.csv')\n",
        "\n",
        "# Initialize Lemmatizer and stopwords\n",
        "lemmatizer = WordNetLemmatizer()\n",
        "stop_words = set(stopwords.words('english'))\n",
        "stop_words.remove('not')  # Ensure 'not' is not removed\n",
        "\n",
        "# Preprocess text function\n",
        "def PreProcessText(review):\n",
        "    # Tokenize and convert to lowercase\n",
        "    tokens = word_tokenize(review.lower())\n",
        "    # Remove stopwords and non-alphanumeric tokens, and lemmatize(converting it in to its base form)\n",
        "    tokens = [lemmatizer.lemmatize(word) for word in tokens if word.isalnum() and word not in stop_words]\n",
        "    return ' '.join(tokens)\n",
        "\n",
        "df['Review'] = df['Review'].apply(PreProcessText)\n",
        "\n",
        "# Vectorize the text data with bi-grams and tri-grams\n",
        "vectorizer = TfidfVectorizer(ngram_range=(1, 3))  # Consider unigrams, bi-grams, and tri-grams\n",
        "X = vectorizer.fit_transform(df['Review'])\n",
        "y = df['Label']\n",
        "print(y.value_counts())\n",
        "# Split data into training and testing sets with stratified sampling\n",
        "X_train, X_test, y_train, y_test = train_test_split(X, y, test_size=0.33, random_state=42, stratify=y)\n",
        "\n",
        "# Define the model\n",
        "model = MultinomialNB()\n",
        "\n",
        "# Define the parameter grid\n",
        "param_grid = {\n",
        "    'alpha': [0.1, 0.5, 0.7],\n",
        "    'fit_prior': [True, False]\n",
        "}\n",
        "\n",
        "#Set up GridSearchCV with stratified k-fold cross-validation\n",
        "stratified_kfold = StratifiedKFold(n_splits=5)\n",
        "grid_search = GridSearchCV(model, param_grid, cv=stratified_kfold, scoring='f1_weighted')\n",
        "grid_search.fit(X_train, y_train)\n",
        "\n",
        "#Best parameters found by using GridSearchCV\n",
        "print(f\"Best parameters: {grid_search.best_params_}\")\n",
        "\n",
        "#Now project will make predictions\n",
        "y_pred = grid_search.predict(X_test)\n",
        "\n",
        "# Evaluate the model using different metrics\n",
        "cm = confusion_matrix(y_test, y_pred)\n",
        "accuracy = accuracy_score(y_test, y_pred)\n",
        "print(f\"Accuracy: {accuracy}\")\n",
        "\n",
        "#precision, recall, f1_score, _ = precision_recall_fscore_support(y_test, y_pred, average='weighted')\n",
        "\n",
        "#print(f\"Confusion Matrix:\\n{cm}\")\n",
        "\n",
        "#print(f\"Precision: {precision}\")\n",
        "#print(f\"Recall: {recall}\")\n",
        "#print(f\"F1 Score: {f1_score}\")\n",
        "\n",
        "# Detailed classification report\n",
        "#print(\"\\nClassification Report:\")\n",
        "#print(classification_report(y_test, y_pred))\n",
        "\n",
        "# Function to predict sentiment\n",
        "def predict_sentiment(review):\n",
        "    review_processed = PreProcessText(review)\n",
        "    review_vectorized = vectorizer.transform([review_processed])\n",
        "    prediction = grid_search.predict(review_vectorized)\n",
        "    return prediction[0]\n",
        "\n",
        "# Example reviews\n",
        "reviews = [\n",
        "    \"This app is amazing! I've never had any issues and it works perfectly.\",\n",
        "    \"Scam! They charged me without my consent and the app doesn't even work.\",\n",
        "    \"Great app for tracking my workouts. Highly recommend it to anyone!\",\n",
        "    \"Totally fake! This app is just a clone of another one and it crashes all the time.\",\n",
        "    \"I've been using this app for months and it's been very reliable and useful.\",\n",
        "    \"Warning! This app stole my personal information. Do not download.\",\n",
        "    \"Fantastic user interface and very helpful customer support.\",\n",
        "    \"Terrible. It's filled with ads and doesn't do what it promises.\",\n",
        "    \"Love the new features in the latest update. Well done!\",\n",
        "    \"Fake reviews everywhere. This app is a complete fraud.\"\n",
        "]\n",
        "\n",
        "# Input by user to detect the fraud app\n",
        "for review in reviews:\n",
        "    predicted_sentiment = predict_sentiment(review)\n",
        "    print(f\"Review: {review}\")\n",
        "    print(f\"Predicted sentiment for the review: {predicted_sentiment}\")\n",
        "    if predicted_sentiment == \"negative\":\n",
        "      print(\"App is Fraud\")\n",
        "    else:\n",
        "      print(\"App is Not Fraud\")\n",
        "new_review = input(\"Enter a review to detect its sentiment: \")\n",
        "predicted_sentiment = predict_sentiment(new_review)\n",
        "print(f\"Predicted sentiment for the review: {predicted_sentiment}\")\n",
        "# Check sentiment and print appropriate message\n",
        "if predicted_sentiment == \"negative\":\n",
        "    print(\"App is Fraud\")\n",
        "else:\n",
        "    print(\"App is Not Fraud\")\n",
        "\n",
        "# Display TF-IDF scores for the new review\n",
        "# def display_tfidf_scores(review):\n",
        "#     review_processed = PreProcessText(review)\n",
        "#     review_vectorized = vectorizer.transform([review_processed])\n",
        "#     feature_names = vectorizer.get_feature_names_out()\n",
        "#     tfidf_scores = review_vectorized.toarray().flatten()\n",
        "#     tfidf_dict = {feature_names[i]: tfidf_scores[i] for i in range(len(feature_names)) if tfidf_scores[i] > 0}\n",
        "#     tfidf_dict_sorted = dict(sorted(tfidf_dict.items(), key=lambda item: item[1], reverse=True))\n",
        "\n",
        "#     print(f\"TF-IDF scores for review: '{review}'\")\n",
        "#     for word, score in tfidf_dict_sorted.items():\n",
        "#        print(f\"{word}: {score}\")\n",
        "\n",
        "#display_tfidf_scores(new_review)\n"
      ]
    }
  ],
  "metadata": {
    "colab": {
      "provenance": [],
      "authorship_tag": "ABX9TyPnoeIZEJMmetUwB7VJP2NE",
      "include_colab_link": true
    },
    "kernelspec": {
      "display_name": "Python 3",
      "name": "python3"
    },
    "language_info": {
      "name": "python"
    }
  },
  "nbformat": 4,
  "nbformat_minor": 0
}